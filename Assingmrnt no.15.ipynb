{
 "cells": [
  {
   "cell_type": "markdown",
   "metadata": {},
   "source": [
    "# Assingment no.15"
   ]
  },
  {
   "cell_type": "code",
   "execution_count": null,
   "metadata": {},
   "outputs": [],
   "source": [
    "# 1. What are the new features added in Python 3.8 version?\n",
    "# Ans=\n",
    "\n",
    "Python 3.8 was released on October 14, 2019, and introduced several new features and improvements. Here are some of the key additions in Python 3.8:\n",
    "\n",
    "Assignment Expressions (the Walrus Operator): This feature allows you to assign values to variables within expressions using the := operator. It is particularly useful in while-loops and list comprehensions.\n",
    "\n",
    "Positional-Only Parameters: Python 3.8 introduced a syntax to define function parameters that can only be passed positionally and not as keyword arguments. This helps improve the clarity of function APIs.\n",
    "\n",
    "The math.prod() function: The math module in Python 3.8 introduced a new prod() function, which returns the product of all the elements in an iterable. It is a convenient way to calculate the product without using a loop."
   ]
  },
  {
   "cell_type": "code",
   "execution_count": null,
   "metadata": {},
   "outputs": [],
   "source": [
    "# 2. What is monkey patching in Python?\n",
    "# Ans=\n",
    "Monkey patching in Python refers to the practice of modifying or extending the behavior of existing classes or modules at runtime. It involves adding, replacing, or modifying methods or attributes of objects or classes, even if you don't have access to their original source code.\n",
    "\n",
    "Monkey patching allows you to alter the behavior of existing code without directly modifying its source code. This can be useful in certain scenarios, such as:\n",
    "\n",
    "Patching third-party libraries: If you're using a third-party library and encounter a bug or need additional functionality, you can modify the library's behavior by adding or modifying its methods or attributes.\n",
    "\n",
    "Hotfixing: Monkey patching can be used to quickly fix bugs or apply temporary patches to code that you don't have immediate access to or can't modify directly.\n",
    "\n",
    "Testing and debugging: During testing or debugging, monkey patching can be used to replace specific parts of the code with test doubles or mocks to isolate and control certain behaviors.\n",
    "\n",
    "Runtime customization: Monkey patching can be employed to customize the behavior of a library or framework to better suit your specific needs or preferences."
   ]
  },
  {
   "cell_type": "code",
   "execution_count": null,
   "metadata": {},
   "outputs": [],
   "source": [
    "# 3. What is the difference between a shallow copy and deep copy?\n",
    "# Ans=\n",
    "In Python, both shallow copy and deep copy are used to create copies of objects, but they differ in the level of copying performed.\n",
    "\n",
    "Shallow Copy:\n",
    "A shallow copy creates a new object and then copies the references of the original object's elements into the new object. In other words, the new object references the same elements as the original object, without creating new copies of the referenced objects. Any changes made to the original object's elements will be reflected in the shallow copy, as they both point to the same underlying objects.\n",
    "In Python, you can create a shallow copy using the copy() method from the copy module or by using the slicing syntax [:] with lists.\n",
    "\n",
    "Example:\n",
    "\n",
    "python\n",
    "Copy code\n",
    "import copy\n",
    "\n",
    "original_list = [1, 2, [3, 4]]\n",
    "shallow_copy = copy.copy(original_list)\n",
    "\n",
    "# Modify the original list\n",
    "original_list[2].append(5)\n",
    "\n",
    "print(original_list)    # Output: [1, 2, [3, 4, 5]]\n",
    "print(shallow_copy)     # Output: [1, 2, [3, 4, 5]]\n",
    "Deep Copy:\n",
    "A deep copy creates a new object and then recursively copies all the elements and nested objects of the original object. In other words, it creates a completely independent copy where changes made to the original object or its elements will not affect the deep copy, as they refer to different objects in memory.\n",
    "In Python, you can create a deep copy using the deepcopy() method from the copy module.\n",
    "\n",
    "Example:\n",
    "\n",
    "\n",
    "import copy\n",
    "\n",
    "original_list = [1, 2, [3, 4]]\n",
    "deep_copy = copy.deepcopy(original_list)\n",
    "\n",
    "# Modify the original list\n",
    "original_list[2].append(5)\n",
    "\n",
    "print(original_list)    \n",
    "print(deep_copy)      "
   ]
  },
  {
   "cell_type": "code",
   "execution_count": null,
   "metadata": {},
   "outputs": [],
   "source": [
    "# 4. What is the maximum possible length of an identifier?\n",
    "# Ans=\n",
    "\n",
    "In Python, the maximum length of an identifier is not explicitly defined by the language specification. However, there are some practical considerations to keep in mind.\n",
    "\n",
    "According to the Python Style Guide (PEP 8), it is recommended to limit the length of identifiers to 79 characters. This is to ensure readability and maintainability of the code, as excessively long identifiers can make the code harder to understand.\n",
    "\n",
    "In practice, most Python implementations impose a maximum limit on identifier length due to memory constraints. The actual limit may vary depending on the Python implementation and platform.\n",
    "\n",
    "For example, in CPython, the reference implementation of Python, the maximum length of an identifier is typically limited to 255 characters. This limitation is due to the underlying representation of identifiers as null-terminated C strings."
   ]
  },
  {
   "cell_type": "code",
   "execution_count": null,
   "metadata": {},
   "outputs": [],
   "source": [
    "# 5. What is generator comprehension?\n",
    "# Ans=\n",
    "\n",
    "Generator comprehension, also known as generator expression, is a concise way to create generators in Python. It is similar to list comprehension or set comprehension, but instead of creating a list or a set, it generates values on the fly as they are needed.\n",
    "\n",
    "The syntax for generator comprehension is similar to list comprehension, but instead of enclosing the expression in square brackets, it is enclosed in parentheses. Additionally, generator comprehension uses a lazy evaluation approach, meaning it yields one item at a time as requested, which can be more memory-efficient compared to constructing and storing an entire list.\n",
    "\n",
    "Here's an example of a generator comprehension that generates a sequence of even numbers:\n",
    "\n",
    "python\n",
    "Copy code\n",
    "even_numbers = (x for x in range(1, 10) if x % 2 == 0)\n",
    "\n",
    "# Accessing values from the generator\n",
    "print(next(even_numbers))  # Output: 2\n",
    "print(next(even_numbers))  # Output: 4\n",
    "print(next(even_numbers))  # Output: 6"
   ]
  },
  {
   "cell_type": "code",
   "execution_count": null,
   "metadata": {},
   "outputs": [],
   "source": []
  },
  {
   "cell_type": "code",
   "execution_count": null,
   "metadata": {},
   "outputs": [],
   "source": []
  },
  {
   "cell_type": "code",
   "execution_count": null,
   "metadata": {},
   "outputs": [],
   "source": []
  },
  {
   "cell_type": "code",
   "execution_count": null,
   "metadata": {},
   "outputs": [],
   "source": []
  },
  {
   "cell_type": "code",
   "execution_count": null,
   "metadata": {},
   "outputs": [],
   "source": []
  },
  {
   "cell_type": "code",
   "execution_count": null,
   "metadata": {},
   "outputs": [],
   "source": []
  },
  {
   "cell_type": "code",
   "execution_count": null,
   "metadata": {},
   "outputs": [],
   "source": []
  },
  {
   "cell_type": "code",
   "execution_count": null,
   "metadata": {},
   "outputs": [],
   "source": []
  },
  {
   "cell_type": "code",
   "execution_count": null,
   "metadata": {},
   "outputs": [],
   "source": []
  }
 ],
 "metadata": {
  "kernelspec": {
   "display_name": "Python 3",
   "language": "python",
   "name": "python3"
  },
  "language_info": {
   "codemirror_mode": {
    "name": "ipython",
    "version": 3
   },
   "file_extension": ".py",
   "mimetype": "text/x-python",
   "name": "python",
   "nbconvert_exporter": "python",
   "pygments_lexer": "ipython3",
   "version": "3.7.6"
  }
 },
 "nbformat": 4,
 "nbformat_minor": 4
}

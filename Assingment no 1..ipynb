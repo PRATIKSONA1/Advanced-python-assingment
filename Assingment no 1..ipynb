{
 "cells": [
  {
   "cell_type": "markdown",
   "metadata": {},
   "source": [
    "# Assingment no 1."
   ]
  },
  {
   "cell_type": "code",
   "execution_count": null,
   "metadata": {},
   "outputs": [],
   "source": [
    "# Q1. What is the purpose of Python&#39;s OOP?\n",
    "# Ans=\n",
    "The purpose of Python's Object-Oriented Programming (OOP) is to provide a programming paradigm that allows for the organization and structuring of code around objects, which are instances of classes. OOP promotes the concept of objects as the fundamental building blocks of a program, encapsulating data and behavior together.\n",
    "\n",
    "Here are some key purposes and benefits of using OOP in Python:\n",
    "\n",
    "Modularity and Code Reusability: OOP allows you to create reusable classes and objects, making it easier to manage and maintain large codebases. Classes encapsulate data (attributes) and functionality (methods) into a single entity, promoting modular and reusable code.\n",
    "\n",
    "Encapsulation: OOP enables encapsulation, which means bundling data and methods within a class. This provides data protection and restricts access to internal implementation details, allowing for better data integrity and preventing unauthorized modification.\n",
    "\n",
    "Abstraction: OOP supports abstraction by allowing you to create abstract classes and interfaces that define common behavior without specifying the implementation details. Abstraction helps in managing complexity and focusing on high-level concepts rather than low-level implementation.\n",
    "\n",
    "Inheritance: OOP facilitates inheritance, allowing classes to inherit attributes and methods from parent classes. Inheritance promotes code reuse and the creation of hierarchical relationships between classes, enabling the extension and specialization of existing code.\n",
    "\n",
    "Polymorphism: OOP supports polymorphism, which allows objects of different classes to be treated as objects of a common superclass. Polymorphism allows for code flexibility, as methods can be written to accept objects of different classes, as long as they share a common interface.\n"
   ]
  },
  {
   "cell_type": "code",
   "execution_count": null,
   "metadata": {},
   "outputs": [],
   "source": [
    "# Q2. Where does an inheritance search look for an attribute?\n",
    "\n",
    "# Ans\n",
    "\n",
    "In Python, when an attribute is accessed on an object, the inheritance search for that attribute starts from the instance itself and then proceeds to the class hierarchy. The search follows a specific order known as the Method Resolution Order (MRO).\n",
    "\n",
    "The MRO defines the sequence in which the base classes are searched for a particular attribute. The MRO is determined by the C3 linearization algorithm, which ensures a consistent and predictable order of attribute resolution.\n",
    "\n",
    "Here is the order in which Python searches for an attribute during inheritance:\n",
    "\n",
    "The instance itself: Python first looks for the attribute directly on the instance itself. If the attribute is found, the search stops, and that value is returned.\n",
    "\n",
    "The instance's class: If the attribute is not found on the instance, Python looks for it in the class of the instance. It checks the class's namespace for the attribute. If the attribute is found, the search stops, and that value is returned.\n",
    "\n",
    "Parent classes (in order of inheritance): If the attribute is not found in the instance or its class, Python continues the search in the parent classes of the instance's class. It follows the order defined by the MRO, which is determined by the inheritance hierarchy. Python checks each parent class in sequence until it finds the attribute or reaches the end of the hierarchy.\n",
    "\n",
    "Object class: If the attribute is not found in any of the parent classes, Python continues the search in the built-in object class, which is the ultimate base class for all classes in Python.\n",
    "\n",
    "AttributeError: If the attribute is not found in any of the above steps, Python raises an AttributeError exception indicating that the attribute does not exist.\n",
    "\n",
    "It's important to note that the inheritance search stops as soon as the attribute is found. If multiple classes in the hierarchy define the same attribute, the one found first in the MRO order will be used. This is known as the \"depth-first, left-to-right\" attribute resolution order.\n",
    "\n"
   ]
  },
  {
   "cell_type": "code",
   "execution_count": null,
   "metadata": {},
   "outputs": [],
   "source": [
    "# Q3. How do you distinguish between a class object and an instance object?\n",
    "\n",
    "# Ans=\n",
    "\n",
    "To distinguish between a class object and an instance object in Python, you can consider the following characteristics:\n",
    "\n",
    "Definition:\n",
    "\n",
    "A class object is created when you define a class using the class keyword. It represents the blueprint or template for creating instances.\n",
    "An instance object is created when you instantiate a class by calling the class object as if it were a function. It represents a specific occurrence or instance of the class.\n",
    "Purpose:\n",
    "\n",
    "Class Object: The class object defines the structure, attributes, and behavior of the instances. It serves as a blueprint or a factory for creating instances.\n",
    "Instance Object: The instance object is a specific occurrence of the class. It holds its own data and has access to the attributes and methods defined in the class.\n",
    "Relationship:\n",
    "\n",
    "Class Object: A class object is a single entity that describes the common attributes and behavior of all instances created from it.\n",
    "Instance Object: Each instance object is a separate and independent entity with its own set of attribute values.\n",
    "Usage:\n",
    "\n",
    "Class Object: Class objects are typically used to define the structure, behavior, and shared attributes of objects. They are accessed directly using the class name.\n",
    "Instance Object: Instance objects are created from the class and used to interact with the attributes and methods defined in the class. They are accessed through the instance variable.\n",
    "Access:\n",
    "\n",
    "Class Object: Class attributes and methods are accessed using the class name itself, such as ClassName.attribute or ClassName.method().\n",
    "Instance Object: Instance attributes and methods are accessed using the instance variable, such as instance.attribute or instance.method()."
   ]
  },
  {
   "cell_type": "code",
   "execution_count": null,
   "metadata": {},
   "outputs": [],
   "source": [
    "# Q4. What makes the first argument in a class’s method function special?\n",
    "\n",
    "# Ans=\n",
    "\n",
    "In Python, the first argument in a class's method function is conventionally named self, although you can choose any valid variable name. This argument is special because it refers to the instance object on which the method is being called. It allows the method to access and manipulate the attributes and behavior specific to that instance.\n",
    "\n",
    "When you call a method on an instance object, Python automatically passes the instance object itself as the first argument to the method. By convention, this argument is named self, but you can use any name you prefer. It's important to include this argument as the first parameter in the method definition to ensure that the method has access to the instance object's data.\n",
    "\n",
    "The self argument is used within the method to refer to the instance object itself and access its attributes and methods. Through self, you can modify instance-specific data, access class attributes, call other methods, or interact with the instance's behavior."
   ]
  },
  {
   "cell_type": "code",
   "execution_count": null,
   "metadata": {},
   "outputs": [],
   "source": [
    "# Q5. What is the purpose of the __init__ method?\n",
    "# Ans=\n",
    "The __init__ method is a special method in Python classes that is automatically called when you create an instance (object) of a class. It stands for \"initialize\" and is used to initialize the attributes of an object. The primary purpose of the __init__ method is to set up the initial state of an object by assigning values to its attributes.\n",
    "\n",
    "Here are the main purposes of the __init__ method:\n",
    "\n",
    "Attribute Initialization: The __init__ method allows you to initialize the attributes of an object by assigning values to them. These attributes represent the object's state and can be accessed and modified throughout the object's lifetime.\n",
    "\n",
    "Passing Arguments: The __init__ method provides a way to pass arguments to the object at the time of creation. These arguments can be used to initialize the object's attributes based on the provided values.\n",
    "\n",
    "Custom Initialization Logic: The __init__ method allows you to define custom logic that needs to be executed during object initialization. You can perform any necessary computations, validations, or setup steps required to properly initialize the object."
   ]
  },
  {
   "cell_type": "code",
   "execution_count": null,
   "metadata": {},
   "outputs": [],
   "source": [
    "# Q6. What is the process for creating a class instance?\n",
    "\n",
    "# Ans=\n",
    "The process for creating a class instance in Python involves the following steps:\n",
    "\n",
    "Class Definition: First, you need to define a class that serves as a blueprint for creating instances. A class is defined using the class keyword followed by the class name. Inside the class, you define attributes and methods that describe the behavior and characteristics of the objects that will be created from the class.\n",
    "\n",
    "Instantiation: To create an instance of a class, you use the class name followed by parentheses. This is called instantiation. When you instantiate a class, Python creates a new object based on the class definition.\n",
    "\n",
    "Constructor Call: After instantiating the class, Python automatically calls the class's __init__ method (if it is defined). The __init__ method is responsible for initializing the attributes of the object.\n",
    "\n",
    "Object Initialization: Inside the __init__ method, you can initialize the object's attributes by assigning values to them. You can also perform any additional setup or configuration steps required.\n",
    "\n",
    "Object Usage: Once the object is created and initialized, you can use it by accessing its attributes and invoking its methods. You can modify the object's state, retrieve information from it, and perform various operations as defined by the class."
   ]
  },
  {
   "cell_type": "code",
   "execution_count": null,
   "metadata": {},
   "outputs": [],
   "source": [
    "# Q7. What is the process for creating a class?\n",
    "\n",
    "# Ans=\n",
    "\n",
    "The process for creating a class in Python involves the following steps:\n",
    "\n",
    "Class Definition: To create a class, you start by defining its blueprint using the class keyword followed by the class name. The class name should follow the naming conventions of Python, typically using CamelCase.\n",
    "\n",
    "Class Attributes: Inside the class, you can define class-level attributes, which are shared by all instances of the class. Class attributes are defined directly within the class body, outside of any method. These attributes are accessed using the class name followed by the dot notation (ClassName.attribute).\n",
    "\n",
    "Constructor: If needed, you can define a special method called the constructor, denoted by the __init__ method. The constructor is invoked when creating a new instance of the class and is responsible for initializing the attributes of the object. It takes at least "
   ]
  },
  {
   "cell_type": "code",
   "execution_count": null,
   "metadata": {},
   "outputs": [],
   "source": [
    "# Q8. How would you define the superclasses of a class?\n",
    "\n",
    "# Ans=\n",
    "To define the superclasses (also known as parent classes or base classes) of a class in Python, you can specify\n",
    "them within the parentheses after the class name when defining the class. This is done using the syntax class \n",
    "ClassName(SuperClass1, SuperClass2, ...). Each superclass is separated by a comma.\n",
    "\n",
    "class SubClass(SuperClass1, SuperClass2):\n",
    "    # Class body\n",
    "    pass"
   ]
  },
  {
   "cell_type": "code",
   "execution_count": null,
   "metadata": {},
   "outputs": [],
   "source": []
  },
  {
   "cell_type": "code",
   "execution_count": null,
   "metadata": {},
   "outputs": [],
   "source": []
  },
  {
   "cell_type": "code",
   "execution_count": null,
   "metadata": {},
   "outputs": [],
   "source": []
  },
  {
   "cell_type": "code",
   "execution_count": null,
   "metadata": {},
   "outputs": [],
   "source": []
  },
  {
   "cell_type": "code",
   "execution_count": null,
   "metadata": {},
   "outputs": [],
   "source": []
  },
  {
   "cell_type": "code",
   "execution_count": null,
   "metadata": {},
   "outputs": [],
   "source": []
  }
 ],
 "metadata": {
  "kernelspec": {
   "display_name": "Python 3",
   "language": "python",
   "name": "python3"
  },
  "language_info": {
   "codemirror_mode": {
    "name": "ipython",
    "version": 3
   },
   "file_extension": ".py",
   "mimetype": "text/x-python",
   "name": "python",
   "nbconvert_exporter": "python",
   "pygments_lexer": "ipython3",
   "version": "3.7.6"
  }
 },
 "nbformat": 4,
 "nbformat_minor": 4
}

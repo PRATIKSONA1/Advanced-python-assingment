{
 "cells": [
  {
   "cell_type": "markdown",
   "metadata": {},
   "source": [
    "# Assingment no.8"
   ]
  },
  {
   "cell_type": "code",
   "execution_count": null,
   "metadata": {},
   "outputs": [],
   "source": [
    "# Q1. What are the two latest user-defined exception constraints in Python 3.X?\n",
    "# Ans=\n",
    "\n",
    "In Python 3.x, the two latest user-defined exception constraints are:\n",
    "\n",
    "Exception chaining using the \"from\" keyword: Starting from Python 3.x, you can use the \"from\" keyword to chain exceptions together. This allows you to associate an original exception with a new exception being raised. The \"from\" keyword provides more context about the exception's origin, making it easier to trace and understand the exception flow.\n",
    "Here's an example of using the \"from\" keyword to chain exceptions:\n",
    "\n",
    "\n",
    "try:\n",
    "    # Code that may raise an exception\n",
    "    # ...\n",
    "except SomeException as e:\n",
    "    raise NewException(\"An error occurred.\") from e\n",
    "In this example, when the \"SomeException\" occurs, a new \"NewException\" is raised with the original exception (\"SomeException\") chained to it. This preserves the original exception's traceback and allows you to access the original exception's information within the new exception's context.\n",
    "\n",
    "Attribute customization with \"cause\" and \"context\": Python 3.x introduced the \"cause\" and \"context\" attributes for user-defined exceptions. These attributes allow you to explicitly set the cause or context of an exception. The \"cause\" attribute is used to indicate a direct cause of the exception, while the \"context\" attribute is used to indicate a broader context in which the exception occurred.\n"
   ]
  },
  {
   "cell_type": "code",
   "execution_count": null,
   "metadata": {},
   "outputs": [],
   "source": [
    "# Q2. How are class-based exceptions that have been raised matched to handlers?\n",
    "# Ans=\n",
    "In Python, class-based exceptions that have been raised are matched to handlers based on the exception's inheritance hierarchy. When an exception is raised, Python searches for the most specific exception handler that can handle the raised exception, moving up the exception hierarchy until a matching handler is found. This process is known as exception handling or exception propagation.\n",
    "\n",
    "Here's how the matching process works:\n",
    "\n",
    "When an exception is raised, Python looks for an appropriate exception handler in the current scope. The exception handler can be a \"try/except\" block or an \"except\" clause within a function or method.\n",
    "\n",
    "Python starts by checking the exception type of the raised exception. It compares the raised exception's class with the exception types specified in the \"except\" clauses.\n",
    "\n",
    "Python goes through the \"except\" clauses in the order they appear and checks if the raised exception's class is a subclass of the specified exception type. It matches the first exception type that is a superclass of the raised exception's class.\n",
    "\n",
    "If a match is found, the corresponding except block is executed. If there is no match, Python propagates the exception to the next outer scope or the next level of exception handling until a matching handler is found or until the exception reaches the top level, resulting in an unhandled exception error."
   ]
  },
  {
   "cell_type": "code",
   "execution_count": null,
   "metadata": {},
   "outputs": [],
   "source": [
    "# Q3. Describe two methods for attaching context information to exception artefacts.\n",
    "# Ans=\n",
    "When handling exceptions in Python, it can be useful to attach additional context information to exception artifacts to provide more meaningful and informative error messages. Two common methods for attaching context information to exception artifacts are:\n",
    "\n",
    "Exception arguments: When raising an exception, you can pass additional information as arguments to the exception class constructor. These arguments can include any relevant data or variables that provide context about the exception.\n",
    "Here's an example:\n",
    "\n",
    "class CustomException(Exception):\n",
    "    def __init__(self, message, context_data):\n",
    "        super().__init__(message)\n",
    "        self.context_data = context_data\n",
    "\n",
    "try:\n",
    "    # Code that may raise an exception\n",
    "    # ...\n",
    "    raise CustomException(\"An error occurred.\", context_data)\n",
    "except CustomException as e:\n",
    "    # Access the context data attached to the exception\n",
    "    context_data = e.context_data\n",
    "    # Handle the exception\n",
    "    # ..."
   ]
  },
  {
   "cell_type": "code",
   "execution_count": null,
   "metadata": {},
   "outputs": [],
   "source": [
    "# Q4. Describe two methods for specifying the text of an exception object&#39;s error message.\n",
    "# Ans=\n",
    "When specifying the text of an exception object's error message in Python, there are two common methods to consider:\n",
    "\n",
    "Exception constructor argument: One method is to pass the error message as an argument to the exception class's constructor when raising the exception. By providing the error message as an argument, you can customize the text of the error message to provide specific details about the exception.\n",
    "Here's an example:\n",
    "\n",
    "\n",
    "class CustomException(Exception):\n",
    "    pass\n",
    "\n",
    "try:\n",
    "    # Code that may raise an exception\n",
    "    # ...\n",
    "    raise CustomException(\"An error occurred: Invalid input.\")\n",
    "except CustomException as e:\n",
    "    # Access the error message of the exception\n",
    "    error_message = str(e)\n",
    "    # Handle the exception\n",
    "    # ..."
   ]
  },
  {
   "cell_type": "code",
   "execution_count": null,
   "metadata": {},
   "outputs": [],
   "source": [
    "# Q5. Why do you no longer use string-based exceptions?\n",
    "# Ans=\n",
    "In earlier versions of Python, it was possible to raise and catch string-based exceptions, where the exception itself was represented as a string. However, using string-based exceptions has been deprecated and is no longer recommended in modern Python. There are several reasons why string-based exceptions are no longer used:\n",
    "\n",
    "Lack of specificity: String-based exceptions do not provide any specific information about the type or nature of the exception. They only contain a string message, making it difficult to differentiate between different types of exceptions and handle them appropriately. This lack of specificity can hinder debugging and error handling processes.\n",
    "\n",
    "Difficulty in exception handling: String-based exceptions make it harder to write robust and maintainable exception handling code. Since there is no defined exception type, catching and distinguishing between different exceptions becomes cumbersome. It may require manual parsing of the exception message or relying on string comparisons, which can be error-prone and less efficient.\n",
    "\n",
    "Limited functionality: String-based exceptions lack the additional features and functionality provided by class-based exceptions. Class-based exceptions allow for more granular control over exception handling, including the ability to attach additional context information, define exception hierarchies, and implement custom exception behavior through methods like __str__ and __repr__. String-based exceptions lack these capabilities, limiting their usefulness in complex scenarios."
   ]
  },
  {
   "cell_type": "code",
   "execution_count": null,
   "metadata": {},
   "outputs": [],
   "source": []
  },
  {
   "cell_type": "code",
   "execution_count": null,
   "metadata": {},
   "outputs": [],
   "source": []
  },
  {
   "cell_type": "code",
   "execution_count": null,
   "metadata": {},
   "outputs": [],
   "source": []
  },
  {
   "cell_type": "code",
   "execution_count": null,
   "metadata": {},
   "outputs": [],
   "source": []
  }
 ],
 "metadata": {
  "kernelspec": {
   "display_name": "Python 3",
   "language": "python",
   "name": "python3"
  },
  "language_info": {
   "codemirror_mode": {
    "name": "ipython",
    "version": 3
   },
   "file_extension": ".py",
   "mimetype": "text/x-python",
   "name": "python",
   "nbconvert_exporter": "python",
   "pygments_lexer": "ipython3",
   "version": "3.7.6"
  }
 },
 "nbformat": 4,
 "nbformat_minor": 4
}

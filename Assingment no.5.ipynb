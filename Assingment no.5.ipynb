{
 "cells": [
  {
   "cell_type": "markdown",
   "metadata": {},
   "source": [
    "# Assingment no.5"
   ]
  },
  {
   "cell_type": "code",
   "execution_count": null,
   "metadata": {},
   "outputs": [],
   "source": [
    "# Q1. What is the meaning of multiple inheritance?\n",
    "# Ans=\n",
    "\n",
    "Multiple inheritance is a feature in object-oriented programming that allows a class to inherit attributes and methods from multiple parent classes. In multiple inheritance, a derived class can inherit from two or more base classes, incorporating their functionalities into a single class.\n",
    "\n",
    "When a class inherits from multiple parent classes, it gains access to all the attributes and methods defined in each of those classes. This means that the derived class can exhibit behavior and utilize resources from multiple sources."
   ]
  },
  {
   "cell_type": "code",
   "execution_count": null,
   "metadata": {},
   "outputs": [],
   "source": [
    "# Q2. What is the concept of delegation?\n",
    "# Ans=\n",
    "\n",
    "The concept of delegation in object-oriented programming refers to a design pattern where an object forwards or delegates some of its responsibilities or tasks to another object. Instead of directly performing the task itself, the object delegates the task to another object that is specifically designed to handle it.\n",
    "\n",
    "Delegation involves creating a relationship between two objects: the delegating object and the delegate object. The delegating object encapsulates the delegation logic and acts as a mediator between the client code and the delegate object."
   ]
  },
  {
   "cell_type": "code",
   "execution_count": null,
   "metadata": {},
   "outputs": [],
   "source": [
    "# Q3. What is the concept of composition?\n",
    "# Ans=\n",
    "\n",
    "Composition is a fundamental concept in object-oriented programming that describes a relationship between objects where one object contains another object as part of its state. It allows objects to be composed or built using other objects, creating complex structures and behaviors.\n",
    "\n",
    "In composition, an object incorporates other objects as its components or parts, forming a \"whole-part\" relationship. The composed object is responsible for creating and managing the lifecycle of its component objects.\n",
    "\n",
    "Key aspects of composition include:\n",
    "\n",
    "Encapsulation: Composition allows objects to encapsulate and group related functionality and data together. The composed object represents a higher-level abstraction that combines the behavior and state of its component objects."
   ]
  },
  {
   "cell_type": "code",
   "execution_count": null,
   "metadata": {},
   "outputs": [],
   "source": [
    "# Q4. What are bound methods and how do we use them?\n",
    "# Ans=\n",
    "\n",
    "In Python, a bound method is a method that is associated with an instance of a class. When a method is accessed through an instance of the class, it becomes a bound method, and the instance is automatically passed as the first argument (usually named self). This binding of the instance to the method allows the method to access and operate on the instance's data.\n",
    "\n",
    "Bound methods are used to invoke the behavior defined by the method on a specific instance of a class. They encapsulate both the behavior of the method and the state of the instance, providing a way to interact with the instance's data and perform actions specific to that instance."
   ]
  },
  {
   "cell_type": "code",
   "execution_count": null,
   "metadata": {},
   "outputs": [],
   "source": [
    "# Q5. What is the purpose of pseudoprivate attributes?\n",
    "# Ans=\n",
    "The purpose of pseudoprivate attributes, also known as name mangling, in Python is to provide a way to make class attributes private or hidden from external access. Pseudoprivate attributes are not intended to enforce strict encapsulation or prevent access altogether, but rather to signal that an attribute should be treated as private and not accessed directly from outside the class.\n",
    "\n",
    "The main goals of pseudoprivate attributes are:\n",
    "\n",
    "Encapsulation: Pseudoprivate attributes help to encapsulate the internal state and implementation details of a class. By marking certain attributes as pseudoprivate, you signal that they are intended for internal use only and discourage direct access from outside the class.\n",
    "\n",
    "Name collision prevention: Pseudoprivate attributes help to avoid naming conflicts between attributes of different classes. By using name mangling to prefix the attribute with a double underscore (__), Python modifies the attribute name to include the class name, making it less likely to collide with attributes in other classes."
   ]
  },
  {
   "cell_type": "code",
   "execution_count": null,
   "metadata": {},
   "outputs": [],
   "source": []
  }
 ],
 "metadata": {
  "kernelspec": {
   "display_name": "Python 3",
   "language": "python",
   "name": "python3"
  },
  "language_info": {
   "codemirror_mode": {
    "name": "ipython",
    "version": 3
   },
   "file_extension": ".py",
   "mimetype": "text/x-python",
   "name": "python",
   "nbconvert_exporter": "python",
   "pygments_lexer": "ipython3",
   "version": "3.7.6"
  }
 },
 "nbformat": 4,
 "nbformat_minor": 4
}

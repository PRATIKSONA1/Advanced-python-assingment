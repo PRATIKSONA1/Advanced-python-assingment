{
 "cells": [
  {
   "cell_type": "markdown",
   "metadata": {},
   "source": [
    "# Assingment no.10"
   ]
  },
  {
   "cell_type": "code",
   "execution_count": null,
   "metadata": {},
   "outputs": [],
   "source": [
    "# Q1. What is the difference between __getattr__ and __getattribute__?\n",
    "# Ans=\n",
    "The main difference between __getattr__ and __getattribute__ lies in when they are invoked and how they handle attribute access in Python classes.\n",
    "\n",
    "__getattr__(self, name): This method is called when an attribute is accessed and not found through normal means. It is a fallback method that is only invoked if the attribute does not exist as a regular instance attribute or through inheritance. The name parameter represents the name of the attribute being accessed. It allows you to dynamically handle attribute access and provide a custom response or behavior when an attribute is not found. If __getattr__ is not defined or it raises an AttributeError itself, a regular AttributeError will be raised.\n",
    "\n",
    "__getattribute__(self, name): This method is called for every attribute access, regardless of whether the attribute exists or not. It is invoked before checking if the attribute exists as a regular instance attribute or through inheritance. This method is often used to intercept attribute access and customize behavior for all attribute accesses. However, you need to be cautious because calling other attribute accesses within __getattribute__ can lead to infinite recursion. To access instance attributes within __getattribute__, it's common to use the base class's __getattribute__ method directly.\n",
    "\n"
   ]
  },
  {
   "cell_type": "code",
   "execution_count": null,
   "metadata": {},
   "outputs": [],
   "source": [
    "# Q2. What is the difference between properties and descriptors?\n",
    "# Ans=\n",
    "Properties and descriptors are both mechanisms in Python that allow you to define custom behavior for attribute access and provide a level of encapsulation. However, there are some differences between the two:\n",
    "\n",
    "Properties:\n",
    "\n",
    "Properties are defined at the class level using the @property decorator or the property() function.\n",
    "Properties provide a way to encapsulate attribute access by defining methods for getting, setting, and deleting a specific attribute.\n",
    "They allow you to define custom logic to be executed when accessing, assigning, or deleting the property value.\n",
    "Properties are typically used to expose class attributes in a controlled manner, allowing you to enforce validation, computed values, or access control.\n",
    "Properties are accessed using the dot notation like regular attributes, without the need for explicit method calls."
   ]
  },
  {
   "cell_type": "code",
   "execution_count": null,
   "metadata": {},
   "outputs": [],
   "source": [
    "# Q3. What are the key differences in functionality between __getattr__ and __getattribute__, as well as\n",
    "# properties and descriptors?\n",
    "# Ans=\n",
    "Both __getattr__ and __getattribute__ are special methods in Python that are used to handle attribute access. However, they have some key differences in terms of functionality:\n",
    "\n",
    "__getattr__(self, name): This method is called when an attribute is not found through normal lookup. It takes a single argument, the name of the attribute being accessed, and is called only when the attribute is not found by any other means (e.g., not defined directly on the object or its class). It allows you to dynamically provide values for attributes that are not present.\n",
    "\n",
    "__getattribute__(self, name): This method is called for every attribute access, regardless of whether the attribute exists or not. It takes the name of the attribute being accessed as an argument. This method allows you to implement custom behavior for all attribute accesses, but you need to be cautious as it can override the normal attribute access and potentially lead to infinite recursion if not implemented carefully."
   ]
  },
  {
   "cell_type": "code",
   "execution_count": null,
   "metadata": {},
   "outputs": [],
   "source": []
  },
  {
   "cell_type": "code",
   "execution_count": null,
   "metadata": {},
   "outputs": [],
   "source": []
  },
  {
   "cell_type": "code",
   "execution_count": null,
   "metadata": {},
   "outputs": [],
   "source": []
  },
  {
   "cell_type": "code",
   "execution_count": null,
   "metadata": {},
   "outputs": [],
   "source": []
  },
  {
   "cell_type": "code",
   "execution_count": null,
   "metadata": {},
   "outputs": [],
   "source": []
  },
  {
   "cell_type": "code",
   "execution_count": null,
   "metadata": {},
   "outputs": [],
   "source": []
  },
  {
   "cell_type": "code",
   "execution_count": null,
   "metadata": {},
   "outputs": [],
   "source": []
  },
  {
   "cell_type": "code",
   "execution_count": null,
   "metadata": {},
   "outputs": [],
   "source": []
  }
 ],
 "metadata": {
  "kernelspec": {
   "display_name": "Python 3",
   "language": "python",
   "name": "python3"
  },
  "language_info": {
   "codemirror_mode": {
    "name": "ipython",
    "version": 3
   },
   "file_extension": ".py",
   "mimetype": "text/x-python",
   "name": "python",
   "nbconvert_exporter": "python",
   "pygments_lexer": "ipython3",
   "version": "3.7.6"
  }
 },
 "nbformat": 4,
 "nbformat_minor": 4
}
